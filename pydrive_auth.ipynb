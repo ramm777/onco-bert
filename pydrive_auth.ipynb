{
 "cells": [
  {
   "cell_type": "markdown",
   "id": "2429975c-4b06-47a5-8f8f-ab87dedc3cbf",
   "metadata": {},
   "source": [
    "# This scripts didn't work for me. I don't know why. But better not to use pydrive or try it on another laptop - macbook? \n",
    "\n",
    "- pip3 install google-api-python-client\r",
    "- pip3 install pydrive\n"
   ]
  },
  {
   "cell_type": "code",
   "execution_count": 5,
   "id": "17c06439-7ee5-481e-947a-aa37781e39c6",
   "metadata": {},
   "outputs": [
    {
     "name": "stdout",
     "output_type": "stream",
     "text": [
      "Please go to this URL: https://accounts.google.com/o/oauth2/auth?response_type=code&client_id=779467200302-76n5u2cgg48b1e7ue222g6cp78l7kdqp.apps.googleusercontent.com&redirect_uri=http%3A%2F%2Flocalhost%3A8080%2F&scope=https%3A%2F%2Fwww.googleapis.com%2Fauth%2Fdrive.readonly&state=HLZfH06b23ocNhuzAlz3ihqRFvFhNY&prompt=consent&access_type=offline\n"
     ]
    },
    {
     "ename": "KeyboardInterrupt",
     "evalue": "Interrupted by user",
     "output_type": "error",
     "traceback": [
      "\u001b[0;31m---------------------------------------------------------------------------\u001b[0m",
      "\u001b[0;31mKeyboardInterrupt\u001b[0m                         Traceback (most recent call last)",
      "Cell \u001b[0;32mIn[5], line 37\u001b[0m\n\u001b[1;32m     34\u001b[0m \u001b[38;5;28mprint\u001b[39m(\u001b[38;5;124mf\u001b[39m\u001b[38;5;124m'\u001b[39m\u001b[38;5;124mPlease go to this URL: \u001b[39m\u001b[38;5;132;01m{\u001b[39;00mauth_url\u001b[38;5;132;01m}\u001b[39;00m\u001b[38;5;124m'\u001b[39m)\n\u001b[1;32m     36\u001b[0m \u001b[38;5;66;03m# Get the authorization code from the user\u001b[39;00m\n\u001b[0;32m---> 37\u001b[0m auth_code \u001b[38;5;241m=\u001b[39m \u001b[38;5;28;43minput\u001b[39;49m\u001b[43m(\u001b[49m\u001b[38;5;124;43m'\u001b[39;49m\u001b[38;5;124;43mEnter the authorization code: \u001b[39;49m\u001b[38;5;124;43m'\u001b[39;49m\u001b[43m)\u001b[49m\n\u001b[1;32m     38\u001b[0m flow\u001b[38;5;241m.\u001b[39mfetch_token(code\u001b[38;5;241m=\u001b[39mauth_code)\n\u001b[1;32m     39\u001b[0m creds \u001b[38;5;241m=\u001b[39m flow\u001b[38;5;241m.\u001b[39mcredentials\n",
      "File \u001b[0;32m/usr/local/lib/python3.10/site-packages/ipykernel/kernelbase.py:1262\u001b[0m, in \u001b[0;36mKernel.raw_input\u001b[0;34m(self, prompt)\u001b[0m\n\u001b[1;32m   1260\u001b[0m     msg \u001b[38;5;241m=\u001b[39m \u001b[38;5;124m\"\u001b[39m\u001b[38;5;124mraw_input was called, but this frontend does not support input requests.\u001b[39m\u001b[38;5;124m\"\u001b[39m\n\u001b[1;32m   1261\u001b[0m     \u001b[38;5;28;01mraise\u001b[39;00m StdinNotImplementedError(msg)\n\u001b[0;32m-> 1262\u001b[0m \u001b[38;5;28;01mreturn\u001b[39;00m \u001b[38;5;28;43mself\u001b[39;49m\u001b[38;5;241;43m.\u001b[39;49m\u001b[43m_input_request\u001b[49m\u001b[43m(\u001b[49m\n\u001b[1;32m   1263\u001b[0m \u001b[43m    \u001b[49m\u001b[38;5;28;43mstr\u001b[39;49m\u001b[43m(\u001b[49m\u001b[43mprompt\u001b[49m\u001b[43m)\u001b[49m\u001b[43m,\u001b[49m\n\u001b[1;32m   1264\u001b[0m \u001b[43m    \u001b[49m\u001b[38;5;28;43mself\u001b[39;49m\u001b[38;5;241;43m.\u001b[39;49m\u001b[43m_parent_ident\u001b[49m\u001b[43m[\u001b[49m\u001b[38;5;124;43m\"\u001b[39;49m\u001b[38;5;124;43mshell\u001b[39;49m\u001b[38;5;124;43m\"\u001b[39;49m\u001b[43m]\u001b[49m\u001b[43m,\u001b[49m\n\u001b[1;32m   1265\u001b[0m \u001b[43m    \u001b[49m\u001b[38;5;28;43mself\u001b[39;49m\u001b[38;5;241;43m.\u001b[39;49m\u001b[43mget_parent\u001b[49m\u001b[43m(\u001b[49m\u001b[38;5;124;43m\"\u001b[39;49m\u001b[38;5;124;43mshell\u001b[39;49m\u001b[38;5;124;43m\"\u001b[39;49m\u001b[43m)\u001b[49m\u001b[43m,\u001b[49m\n\u001b[1;32m   1266\u001b[0m \u001b[43m    \u001b[49m\u001b[43mpassword\u001b[49m\u001b[38;5;241;43m=\u001b[39;49m\u001b[38;5;28;43;01mFalse\u001b[39;49;00m\u001b[43m,\u001b[49m\n\u001b[1;32m   1267\u001b[0m \u001b[43m\u001b[49m\u001b[43m)\u001b[49m\n",
      "File \u001b[0;32m/usr/local/lib/python3.10/site-packages/ipykernel/kernelbase.py:1305\u001b[0m, in \u001b[0;36mKernel._input_request\u001b[0;34m(self, prompt, ident, parent, password)\u001b[0m\n\u001b[1;32m   1302\u001b[0m \u001b[38;5;28;01mexcept\u001b[39;00m \u001b[38;5;167;01mKeyboardInterrupt\u001b[39;00m:\n\u001b[1;32m   1303\u001b[0m     \u001b[38;5;66;03m# re-raise KeyboardInterrupt, to truncate traceback\u001b[39;00m\n\u001b[1;32m   1304\u001b[0m     msg \u001b[38;5;241m=\u001b[39m \u001b[38;5;124m\"\u001b[39m\u001b[38;5;124mInterrupted by user\u001b[39m\u001b[38;5;124m\"\u001b[39m\n\u001b[0;32m-> 1305\u001b[0m     \u001b[38;5;28;01mraise\u001b[39;00m \u001b[38;5;167;01mKeyboardInterrupt\u001b[39;00m(msg) \u001b[38;5;28;01mfrom\u001b[39;00m \u001b[38;5;28;01mNone\u001b[39;00m\n\u001b[1;32m   1306\u001b[0m \u001b[38;5;28;01mexcept\u001b[39;00m \u001b[38;5;167;01mException\u001b[39;00m:\n\u001b[1;32m   1307\u001b[0m     \u001b[38;5;28mself\u001b[39m\u001b[38;5;241m.\u001b[39mlog\u001b[38;5;241m.\u001b[39mwarning(\u001b[38;5;124m\"\u001b[39m\u001b[38;5;124mInvalid Message:\u001b[39m\u001b[38;5;124m\"\u001b[39m, exc_info\u001b[38;5;241m=\u001b[39m\u001b[38;5;28;01mTrue\u001b[39;00m)\n",
      "\u001b[0;31mKeyboardInterrupt\u001b[0m: Interrupted by user"
     ]
    }
   ],
   "source": [
    "import os\n",
    "from pydrive.auth import GoogleAuth\n",
    "from pydrive.drive import GoogleDrive\n",
    "from google_auth_oauthlib.flow import InstalledAppFlow\n",
    "from googleapiclient.discovery import build\n",
    "from pathlib import Path\n",
    "\n",
    "# Set up the argument object\n",
    "obj = lambda: None\n",
    "lmao = {\n",
    "    \"auth_host_name\": 'localhost', \n",
    "    'noauth_local_webserver': 'store_true', \n",
    "    'auth_host_port': [8080], \n",
    "    'logging_level': 'ERROR'\n",
    "}\n",
    "for k, v in lmao.items():\n",
    "    setattr(obj, k, v)\n",
    "\n",
    "# Authorization boilerplate code\n",
    "SCOPES = ['https://www.googleapis.com/auth/drive.readonly']\n",
    "creds = None\n",
    "\n",
    "# Check if token.json exists and is valid\n",
    "token_path = 'token.json'\n",
    "if os.path.exists(token_path):\n",
    "    creds = None # Initialize to None since service_account might not be correct here\n",
    "\n",
    "# If token.json does not exist or is invalid, run the OAuth flow\n",
    "if not creds:\n",
    "    flow = InstalledAppFlow.from_client_secrets_file(\n",
    "        'client_secrets.json', SCOPES, redirect_uri='http://localhost:8080/'\n",
    "    )\n",
    "    auth_url, _ = flow.authorization_url(prompt='consent')\n",
    "    print(f'Please go to this URL: {auth_url}')\n",
    "\n",
    "    # Get the authorization code from the user\n",
    "    auth_code = input('Enter the authorization code: ')\n",
    "    flow.fetch_token(code=auth_code)\n",
    "    creds = flow.credentials\n",
    "\n",
    "# Save the credentials for the next run\n",
    "with open(token_path, 'w') as token:\n",
    "    token.write(creds.to_json())\n",
    "\n",
    "# Build the service object for Google Drive\n",
    "gauth = GoogleAuth()\n",
    "gauth.credentials = creds\n",
    "drive = GoogleDrive(gauth)\n",
    "\n",
    "# Your further logic goes here\n",
    "print(\"Authorization successful\")"
   ]
  },
  {
   "cell_type": "code",
   "execution_count": null,
   "id": "0349fd9b-96f2-449a-a8dc-fe3a13a4afad",
   "metadata": {},
   "outputs": [],
   "source": []
  },
  {
   "cell_type": "code",
   "execution_count": null,
   "id": "4a0c9278-7902-47c9-9744-6e38cdba2afb",
   "metadata": {},
   "outputs": [],
   "source": []
  }
 ],
 "metadata": {
  "kernelspec": {
   "display_name": "Python 3 (ipykernel)",
   "language": "python",
   "name": "python3"
  },
  "language_info": {
   "codemirror_mode": {
    "name": "ipython",
    "version": 3
   },
   "file_extension": ".py",
   "mimetype": "text/x-python",
   "name": "python",
   "nbconvert_exporter": "python",
   "pygments_lexer": "ipython3",
   "version": "3.10.13"
  }
 },
 "nbformat": 4,
 "nbformat_minor": 5
}
